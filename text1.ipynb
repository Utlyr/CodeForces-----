{
 "cells": [
  {
   "cell_type": "code",
   "execution_count": 10,
   "metadata": {},
   "outputs": [
    {
     "name": "stdout",
     "output_type": "stream",
     "text": [
      "Contest 588 hack数据获取成功\n"
     ]
    }
   ],
   "source": [
    "from pyvis.network import Network\n",
    "from showHack import showHackData\n",
    "d = showHackData(588)"
   ]
  },
  {
   "cell_type": "code",
   "execution_count": 11,
   "metadata": {},
   "outputs": [],
   "source": [
    "import networkx as nx\n",
    "g = Network(directed=True)\n",
    "nd = set()\n",
    "hacker = d.keys()\n",
    "for x in d.items():\n",
    "    nd.add(x[0])\n",
    "    for y in x[1]:\n",
    "        nd.add(y)\n",
    "for x in nd:\n",
    "    if x in hacker:\n",
    "        g.add_node(x,color='green',label=x)\n",
    "    else:\n",
    "        g.add_node(x,color='blue',label=x)\n",
    "for x in d.items():\n",
    "    for y in x[1]:\n",
    "        g.add_edge(x[0],y,color='red')\n",
    "g.save_graph('nx.html')"
   ]
  },
  {
   "cell_type": "code",
   "execution_count": 13,
   "metadata": {},
   "outputs": [
    {
     "name": "stdout",
     "output_type": "stream",
     "text": [
      "[0, 1, 2, 3, 4]\n"
     ]
    }
   ],
   "source": [
    "from pyvis import network as net\n",
    "import networkx as nx\n",
    "\n",
    "#%%\n",
    "g=net.Network(directed=True,heading=\"Test 1\",filter_menu=True)\n",
    "nxg = nx.complete_graph(\n",
    "5\n",
    ")\n",
    "g.from_nx(nxg)\n",
    "#%%\n",
    "g.save_graph(\"example.html\")"
   ]
  }
 ],
 "metadata": {
  "kernelspec": {
   "display_name": ".venv",
   "language": "python",
   "name": "python3"
  },
  "language_info": {
   "codemirror_mode": {
    "name": "ipython",
    "version": 3
   },
   "file_extension": ".py",
   "mimetype": "text/x-python",
   "name": "python",
   "nbconvert_exporter": "python",
   "pygments_lexer": "ipython3",
   "version": "3.11.9"
  }
 },
 "nbformat": 4,
 "nbformat_minor": 2
}
